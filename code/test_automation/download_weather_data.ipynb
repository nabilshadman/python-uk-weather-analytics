{
 "cells": [
  {
   "cell_type": "code",
   "execution_count": 1,
   "metadata": {},
   "outputs": [],
   "source": [
    "# import requests library for fetching web data\n",
    "import requests"
   ]
  },
  {
   "cell_type": "code",
   "execution_count": 2,
   "metadata": {},
   "outputs": [],
   "source": [
    "# open stations.txt file\n",
    "# read each line (i.e. station), strip newline character, and append it in stations list\n",
    "# derive urls of all stations in the stations list\n",
    "# create list of tuples of the form (station,url) of all stations to use in the for loop below\n",
    "with open(\"stations.txt\",\"r\") as stations_file:\n",
    "    stations = [station.strip() for station in stations_file.readlines()]\n",
    "stations_urls = [(\"https://www.metoffice.gov.uk/pub/data/weather/uk/climate/stationdata/\" + station + \"data.txt\")\n",
    "               for station in stations]\n",
    "stations_tuples = [(stations[i], stations_urls[i]) for i in range(len(stations))]"
   ]
  },
  {
   "cell_type": "code",
   "execution_count": 3,
   "metadata": {},
   "outputs": [],
   "source": [
    "# create new directory to save all data (shell command)\n",
    "%mkdir weather_data"
   ]
  },
  {
   "cell_type": "code",
   "execution_count": 4,
   "metadata": {},
   "outputs": [],
   "source": [
    "# download files of stations from metoffice website using info from stations_tuples\n",
    "for station in stations_tuples:\n",
    "    r = requests.get(station[1])\n",
    "    with open(\"./weather_data/\" + station[0] + \"data.txt\", \"wb\") as f:\n",
    "        f.write(r.content)"
   ]
  },
  {
   "cell_type": "code",
   "execution_count": 5,
   "metadata": {},
   "outputs": [],
   "source": [
    "# copy all data from weather files into new files deleting first seven lines of metadata and labels\n",
    "for station in stations:\n",
    "    with open(\"./weather_data/\" + station + \"data.txt\", \"r\") as a_file:\n",
    "        lines = a_file.readlines()\n",
    "        \n",
    "    del lines[0:7]\n",
    "    \n",
    "    with open(\"./weather_data/\" + station + \".txt\", \"w+\") as new_file:\n",
    "        for line in lines:\n",
    "            new_file.write(line)"
   ]
  },
  {
   "cell_type": "code",
   "execution_count": 6,
   "metadata": {},
   "outputs": [],
   "source": [
    "# some files have an additional line of metadata and labels (e.g. braemar, lowestoft, nairn, southampton, whitby)\n",
    "# check which files have it and delete the additional line in-file\n",
    "for station in stations:\n",
    "    a_file = open(\"./weather_data/\" + station + \".txt\", \"r\")\n",
    "    lines = a_file.readlines()\n",
    "    if 'degC' in lines[0]:\n",
    "        del lines[0]\n",
    "        a_file.close()\n",
    "        a_file = open(\"./weather_data/\" + station + \".txt\", \"w\")\n",
    "        a_file.close()\n",
    "        a_file = open(\"./weather_data/\" + station + \".txt\", \"w\")\n",
    "        for line in lines:\n",
    "            a_file.write(line)\n",
    "# some files have variants of 'Site Closed' string appended at end of file (e.g. cwmystwyth, ringway, southampton)\n",
    "# check which files have those and remove those strings\n",
    "    if 'site closed\\n' in lines[-1].lower():\n",
    "        del lines[-1]\n",
    "        a_file.close()\n",
    "        a_file = open(\"./weather_data/\" + station + \".txt\", \"w\")\n",
    "        a_file.close()\n",
    "        a_file = open(\"./weather_data/\" + station + \".txt\", \"w\")\n",
    "        for line in lines:\n",
    "            a_file.write(line)\n",
    "    a_file.close()"
   ]
  }
 ],
 "metadata": {
  "kernelspec": {
   "display_name": "Python 3",
   "language": "python",
   "name": "python3"
  },
  "language_info": {
   "codemirror_mode": {
    "name": "ipython",
    "version": 3
   },
   "file_extension": ".py",
   "mimetype": "text/x-python",
   "name": "python",
   "nbconvert_exporter": "python",
   "pygments_lexer": "ipython3",
   "version": "3.8.3"
  }
 },
 "nbformat": 4,
 "nbformat_minor": 4
}
